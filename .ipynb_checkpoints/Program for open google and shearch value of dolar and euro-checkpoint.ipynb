{
 "cells": [
  {
   "cell_type": "code",
   "execution_count": 1,
   "id": "ba9ecd14",
   "metadata": {},
   "outputs": [
    {
     "name": "stderr",
     "output_type": "stream",
     "text": [
      "/tmp/ipykernel_15710/1290052898.py:6: DeprecationWarning: executable_path has been deprecated, please pass in a Service object\n",
      "  browser = webdriver.Chrome(executable_path=r'/home/julio/Documentos/Programa para abrir o google e perquisar o valor do dolar e do euro/chromedriver')\n"
     ]
    }
   ],
   "source": [
    "# Import Libraries\n",
    "from selenium import webdriver\n",
    "from selenium.webdriver import Keys\n",
    "\n",
    "# Opened browser\n",
    "browser = webdriver.Chrome(executable_path=r'/home/julio/Documentos/Programa para abrir o google e perquisar o valor do dolar e do euro/chromedriver')\n",
    "\n",
    "# Link Web Site for open\n",
    "google = 'https://www.google.com.br/'\n",
    "\n",
    "# Openig the browser\n",
    "browser.get(google)"
   ]
  },
  {
   "cell_type": "code",
   "execution_count": 2,
   "id": "8c1ead23",
   "metadata": {},
   "outputs": [
    {
     "name": "stderr",
     "output_type": "stream",
     "text": [
      "/tmp/ipykernel_15710/2603939435.py:5: DeprecationWarning: find_element_by_xpath is deprecated. Please use find_element(by=By.XPATH, value=xpath) instead\n",
      "  browser.find_element_by_xpath(xpath_camp_search).click()\n",
      "/tmp/ipykernel_15710/2603939435.py:8: DeprecationWarning: find_element_by_xpath is deprecated. Please use find_element(by=By.XPATH, value=xpath) instead\n",
      "  browser.find_element_by_xpath(xpath_camp_search).send_keys('Value dollar today').keys(keys.ENTER)\n"
     ]
    },
    {
     "ename": "AttributeError",
     "evalue": "'NoneType' object has no attribute 'keys'",
     "output_type": "error",
     "traceback": [
      "\u001b[0;31m---------------------------------------------------------------------------\u001b[0m",
      "\u001b[0;31mAttributeError\u001b[0m                            Traceback (most recent call last)",
      "Input \u001b[0;32mIn [2]\u001b[0m, in \u001b[0;36m<cell line: 8>\u001b[0;34m()\u001b[0m\n\u001b[1;32m      5\u001b[0m browser\u001b[38;5;241m.\u001b[39mfind_element_by_xpath(xpath_camp_search)\u001b[38;5;241m.\u001b[39mclick()\n\u001b[1;32m      7\u001b[0m \u001b[38;5;66;03m#Passed the value\u001b[39;00m\n\u001b[0;32m----> 8\u001b[0m \u001b[43mbrowser\u001b[49m\u001b[38;5;241;43m.\u001b[39;49m\u001b[43mfind_element_by_xpath\u001b[49m\u001b[43m(\u001b[49m\u001b[43mxpath_camp_search\u001b[49m\u001b[43m)\u001b[49m\u001b[38;5;241;43m.\u001b[39;49m\u001b[43msend_keys\u001b[49m\u001b[43m(\u001b[49m\u001b[38;5;124;43m'\u001b[39;49m\u001b[38;5;124;43mValue dollar today\u001b[39;49m\u001b[38;5;124;43m'\u001b[39;49m\u001b[43m)\u001b[49m\u001b[38;5;241;43m.\u001b[39;49m\u001b[43mkeys\u001b[49m(keys\u001b[38;5;241m.\u001b[39mENTER)\n",
      "\u001b[0;31mAttributeError\u001b[0m: 'NoneType' object has no attribute 'keys'"
     ]
    }
   ],
   "source": [
    "# Xpath of camp search bar\n",
    "xpath_camp_search = ('/html/body/div[1]/div[3]/form/div[1]/div[1]/div[1]/div/div[2]/input')\n",
    "\n",
    "# Finding element for cliked\n",
    "browser.find_element_by_xpath(xpath_camp_search).click()\n",
    "\n",
    "#Passed the value\n",
    "browser.find_element_by_xpath(xpath_camp_search).send_keys('Value dollar today').keys(keys.ENTER)"
   ]
  },
  {
   "cell_type": "code",
   "execution_count": null,
   "id": "5a98394d",
   "metadata": {},
   "outputs": [],
   "source": []
  }
 ],
 "metadata": {
  "kernelspec": {
   "display_name": "Python 3 (ipykernel)",
   "language": "python",
   "name": "python3"
  },
  "language_info": {
   "codemirror_mode": {
    "name": "ipython",
    "version": 3
   },
   "file_extension": ".py",
   "mimetype": "text/x-python",
   "name": "python",
   "nbconvert_exporter": "python",
   "pygments_lexer": "ipython3",
   "version": "3.10.4"
  },
  "vscode": {
   "interpreter": {
    "hash": "9a9f98f0ca816d03317d23cc76d89b8484898c2ce3b4d1aa03cd08efe3c9a4d6"
   }
  }
 },
 "nbformat": 4,
 "nbformat_minor": 5
}
