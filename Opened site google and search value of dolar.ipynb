{
 "cells": [
  {
   "cell_type": "code",
   "execution_count": 47,
   "id": "fd9ab68d",
   "metadata": {},
   "outputs": [],
   "source": [
    "import pyautogui as pg"
   ]
  },
  {
   "cell_type": "markdown",
   "id": "6fff3a8b",
   "metadata": {},
   "source": [
    "# Getting mouse position\n",
    "pg.sleep(4)\n",
    "print(pg.position())"
   ]
  },
  {
   "cell_type": "code",
   "execution_count": 48,
   "id": "643a8533",
   "metadata": {},
   "outputs": [],
   "source": [
    "# Clicking on a position\n",
    "pg.sleep(3)\n",
    "pg.moveTo(x=669, y=1045)\n",
    "pg.sleep(2)\n",
    "pg.click()"
   ]
  },
  {
   "cell_type": "code",
   "execution_count": 49,
   "id": "c6390cf6",
   "metadata": {},
   "outputs": [],
   "source": [
    "# Finding the web browser\n",
    "pg.write('chrome')\n",
    "pg.sleep(2)"
   ]
  },
  {
   "cell_type": "code",
   "execution_count": 50,
   "id": "90868490",
   "metadata": {
    "scrolled": false
   },
   "outputs": [],
   "source": [
    "# Getting mouse position of web browser\n",
    "# print(pg.position())\n",
    "\n",
    "# Abrindo o google chrome\n",
    "pg.moveTo(x=793, y=499)\n",
    "pg.click()"
   ]
  },
  {
   "cell_type": "markdown",
   "id": "3174cfe3",
   "metadata": {},
   "source": [
    "# Gettin position search bar\n",
    "pg.sleep(2)\n",
    "print(pg.position())"
   ]
  },
  {
   "cell_type": "code",
   "execution_count": 51,
   "id": "a284f83b",
   "metadata": {},
   "outputs": [],
   "source": [
    "# Write information for shearch\n",
    "pg.moveTo(x=1054, y=60)\n",
    "pg.click\n",
    "pg.write('Whats the value dolar to day')\n",
    "pg.press('enter')"
   ]
  },
  {
   "cell_type": "code",
   "execution_count": null,
   "id": "198972cc",
   "metadata": {},
   "outputs": [],
   "source": []
  }
 ],
 "metadata": {
  "kernelspec": {
   "display_name": "Python 3 (ipykernel)",
   "language": "python",
   "name": "python3"
  },
  "language_info": {
   "codemirror_mode": {
    "name": "ipython",
    "version": 3
   },
   "file_extension": ".py",
   "mimetype": "text/x-python",
   "name": "python",
   "nbconvert_exporter": "python",
   "pygments_lexer": "ipython3",
   "version": "3.10.4"
  }
 },
 "nbformat": 4,
 "nbformat_minor": 5
}
