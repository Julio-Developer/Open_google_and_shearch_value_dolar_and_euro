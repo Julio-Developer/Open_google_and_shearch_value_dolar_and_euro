{
 "cells": [
  {
   "cell_type": "code",
   "execution_count": 1,
   "id": "0bfb3c38",
   "metadata": {},
   "outputs": [],
   "source": [
    "import pyautogui as pg"
   ]
  },
  {
   "cell_type": "markdown",
   "id": "ec73f1f8",
   "metadata": {},
   "source": [
    "# Getting mouse position\n",
    "pg.sleep(4)\n",
    "print(pg.position())"
   ]
  },
  {
   "cell_type": "code",
   "execution_count": 2,
   "id": "fa8e2ebb",
   "metadata": {},
   "outputs": [],
   "source": [
    "# Clicking on a position\n",
    "pg.sleep(3)\n",
    "pg.moveTo(x=669, y=1045)\n",
    "pg.sleep(2)\n",
    "pg.click()"
   ]
  },
  {
   "cell_type": "code",
   "execution_count": 3,
   "id": "dcb09e4b",
   "metadata": {},
   "outputs": [],
   "source": [
    "# Finding the web browser\n",
    "pg.write('chrome')\n",
    "pg.sleep(2)"
   ]
  },
  {
   "cell_type": "code",
   "execution_count": 4,
   "id": "ac1f2809",
   "metadata": {
    "scrolled": false
   },
   "outputs": [],
   "source": [
    "# Getting mouse position of web browser\n",
    "# print(pg.position())\n",
    "\n",
    "# Opening google chrome\n",
    "pg.moveTo(x=793, y=499)\n",
    "pg.click()"
   ]
  },
  {
   "cell_type": "markdown",
   "id": "2c09640b",
   "metadata": {},
   "source": [
    "# Gettin position search bar\n",
    "pg.sleep(2)\n",
    "print(pg.position())"
   ]
  },
  {
   "cell_type": "code",
   "execution_count": 5,
   "id": "0a4dc887",
   "metadata": {},
   "outputs": [],
   "source": [
    "# Write information for shearch\n",
    "pg.moveTo(x=1054, y=60)\n",
    "pg.click\n",
    "pg.sleep(2)\n",
    "pg.write('Whats the value dolar to day')\n",
    "pg.sleep(2)\n",
    "pg.press('enter')"
   ]
  },
  {
   "cell_type": "code",
   "execution_count": null,
   "id": "71c5997f",
   "metadata": {},
   "outputs": [],
   "source": []
  }
 ],
 "metadata": {
  "kernelspec": {
   "display_name": "Python 3 (ipykernel)",
   "language": "python",
   "name": "python3"
  },
  "language_info": {
   "codemirror_mode": {
    "name": "ipython",
    "version": 3
   },
   "file_extension": ".py",
   "mimetype": "text/x-python",
   "name": "python",
   "nbconvert_exporter": "python",
   "pygments_lexer": "ipython3",
   "version": "3.9.12"
  }
 },
 "nbformat": 4,
 "nbformat_minor": 5
}
