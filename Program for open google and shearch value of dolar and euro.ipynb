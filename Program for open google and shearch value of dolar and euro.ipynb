{
 "cells": [
  {
   "cell_type": "code",
   "execution_count": 1,
   "id": "ba9ecd14",
   "metadata": {
    "scrolled": true
   },
   "outputs": [
    {
     "name": "stderr",
     "output_type": "stream",
     "text": [
      "C:\\Users\\julio\\AppData\\Local\\Temp\\ipykernel_2908\\3995117412.py:6: DeprecationWarning: executable_path has been deprecated, please pass in a Service object\n",
      "  browser = webdriver.Chrome(\"G:\\Meu Drive\\Estudo\\Cursos\\Python\\Curso_RPA_Python\\Programs Created\\Abrindo o google e pesquisando o valor do dolar\\chromedriver.exe\")\n"
     ]
    }
   ],
   "source": [
    "# Import Libraries\n",
    "from selenium import webdriver\n",
    "from selenium.webdriver import Keys\n",
    "from time import sleep as time\n",
    "# Opened browser\n",
    "browser = webdriver.Chrome(\"G:\\Meu Drive\\Estudo\\Cursos\\Python\\Curso_RPA_Python\\Programs Created\\Abrindo o google e pesquisando o valor do dolar\\chromedriver.exe\")\n",
    "\n",
    "# Link Web Site for open\n",
    "google = 'https://www.google.com.br/'\n",
    "\n",
    "# Openig the browser\n",
    "browser.get(google)\n",
    "time(2)"
   ]
  },
  {
   "cell_type": "code",
   "execution_count": 2,
   "id": "8c1ead23",
   "metadata": {},
   "outputs": [
    {
     "ename": "AttributeError",
     "evalue": "'WebDriver' object has no attribute 'find_element_by_name'",
     "output_type": "error",
     "traceback": [
      "\u001b[1;31m---------------------------------------------------------------------------\u001b[0m",
      "\u001b[1;31mAttributeError\u001b[0m                            Traceback (most recent call last)",
      "Input \u001b[1;32mIn [2]\u001b[0m, in \u001b[0;36m<cell line: 5>\u001b[1;34m()\u001b[0m\n\u001b[0;32m      2\u001b[0m camp_search \u001b[38;5;241m=\u001b[39m (\u001b[38;5;124m'\u001b[39m\u001b[38;5;124mname=\u001b[39m\u001b[38;5;124m\"\u001b[39m\u001b[38;5;124msearch\u001b[39m\u001b[38;5;124m\"\u001b[39m\u001b[38;5;124m'\u001b[39m)\n\u001b[0;32m      4\u001b[0m \u001b[38;5;66;03m# Clicked and search the values\u001b[39;00m\n\u001b[1;32m----> 5\u001b[0m \u001b[43mbrowser\u001b[49m\u001b[38;5;241;43m.\u001b[39;49m\u001b[43mfind_element_by_name\u001b[49m(camp_search)\n",
      "\u001b[1;31mAttributeError\u001b[0m: 'WebDriver' object has no attribute 'find_element_by_name'"
     ]
    }
   ],
   "source": [
    "# Camp for find\n",
    "camp_search = ('name=\"search\"')\n",
    "\n",
    "# Clicked and search the values\n",
    "browser.find_element"
   ]
  },
  {
   "cell_type": "code",
   "execution_count": null,
   "id": "cce4934b",
   "metadata": {},
   "outputs": [],
   "source": []
  }
 ],
 "metadata": {
  "kernelspec": {
   "display_name": "Python 3 (ipykernel)",
   "language": "python",
   "name": "python3"
  },
  "language_info": {
   "codemirror_mode": {
    "name": "ipython",
    "version": 3
   },
   "file_extension": ".py",
   "mimetype": "text/x-python",
   "name": "python",
   "nbconvert_exporter": "python",
   "pygments_lexer": "ipython3",
   "version": "3.9.12"
  },
  "vscode": {
   "interpreter": {
    "hash": "9a9f98f0ca816d03317d23cc76d89b8484898c2ce3b4d1aa03cd08efe3c9a4d6"
   }
  }
 },
 "nbformat": 4,
 "nbformat_minor": 5
}
