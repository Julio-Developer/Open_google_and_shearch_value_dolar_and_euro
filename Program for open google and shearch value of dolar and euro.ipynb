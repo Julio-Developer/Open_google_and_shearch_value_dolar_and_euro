{
 "cells": [
  {
   "cell_type": "code",
   "execution_count": 1,
   "id": "ba9ecd14",
   "metadata": {},
   "outputs": [
    {
     "name": "stderr",
     "output_type": "stream",
     "text": [
      "/tmp/ipykernel_17602/1290052898.py:6: DeprecationWarning: executable_path has been deprecated, please pass in a Service object\n",
      "  browser = webdriver.Chrome(executable_path=r'/home/julio/Documentos/Programa para abrir o google e perquisar o valor do dolar e do euro/chromedriver')\n"
     ]
    }
   ],
   "source": [
    "# Import Libraries\n",
    "from selenium import webdriver\n",
    "from selenium.webdriver import Keys\n",
    "\n",
    "# Opened browser\n",
    "browser = webdriver.Chrome(executable_path=r'/home/julio/Documentos/Programa para abrir o google e perquisar o valor do dolar e do euro/chromedriver')\n",
    "\n",
    "# Link Web Site for open\n",
    "google = 'https://www.google.com.br/'\n",
    "\n",
    "# Openig the browser\n",
    "browser.get(google)"
   ]
  },
  {
   "cell_type": "code",
   "execution_count": 2,
   "id": "8c1ead23",
   "metadata": {},
   "outputs": [
    {
     "name": "stderr",
     "output_type": "stream",
     "text": [
      "/tmp/ipykernel_17602/2220678304.py:5: DeprecationWarning: find_element_by_xpath is deprecated. Please use find_element(by=By.XPATH, value=xpath) instead\n",
      "  browser.find_element_by_xpath(xpath_camp_search).click()\n",
      "/tmp/ipykernel_17602/2220678304.py:8: DeprecationWarning: find_element_by_xpath is deprecated. Please use find_element(by=By.XPATH, value=xpath) instead\n",
      "  browser.find_element_by_xpath(xpath_camp_search).send_keys('Value dollar today')\n",
      "/tmp/ipykernel_17602/2220678304.py:9: DeprecationWarning: find_element_by_xpath is deprecated. Please use find_element(by=By.XPATH, value=xpath) instead\n",
      "  browser.find_element_by_xpath('/html/body/div[1]/div[3]/form/div[1]/div[1]/div[2]/div[2]/div[5]/center/input[1]').click()\n"
     ]
    },
    {
     "ename": "ElementNotInteractableException",
     "evalue": "Message: element not interactable\n  (Session info: chrome=102.0.5005.115)\nStacktrace:\n#0 0x564da8a3cf33 <unknown>\n#1 0x564da8786faf <unknown>\n#2 0x564da87be4b7 <unknown>\n#3 0x564da87b25b9 <unknown>\n#4 0x564da87daf72 <unknown>\n#5 0x564da87b1e73 <unknown>\n#6 0x564da87db07e <unknown>\n#7 0x564da87ee2e4 <unknown>\n#8 0x564da87dae63 <unknown>\n#9 0x564da87b082a <unknown>\n#10 0x564da87b1985 <unknown>\n#11 0x564da8a814cd <unknown>\n#12 0x564da8a855ec <unknown>\n#13 0x564da8a6b71e <unknown>\n#14 0x564da8a86238 <unknown>\n#15 0x564da8a60870 <unknown>\n#16 0x564da8aa2608 <unknown>\n#17 0x564da8aa2788 <unknown>\n#18 0x564da8abcf1d <unknown>\n#19 0x7fbb92d5ab43 <unknown>\n",
     "output_type": "error",
     "traceback": [
      "\u001b[0;31m---------------------------------------------------------------------------\u001b[0m",
      "\u001b[0;31mElementNotInteractableException\u001b[0m           Traceback (most recent call last)",
      "Input \u001b[0;32mIn [2]\u001b[0m, in \u001b[0;36m<cell line: 9>\u001b[0;34m()\u001b[0m\n\u001b[1;32m      7\u001b[0m \u001b[38;5;66;03m#Passed the value\u001b[39;00m\n\u001b[1;32m      8\u001b[0m browser\u001b[38;5;241m.\u001b[39mfind_element_by_xpath(xpath_camp_search)\u001b[38;5;241m.\u001b[39msend_keys(\u001b[38;5;124m'\u001b[39m\u001b[38;5;124mValue dollar today\u001b[39m\u001b[38;5;124m'\u001b[39m)\n\u001b[0;32m----> 9\u001b[0m \u001b[43mbrowser\u001b[49m\u001b[38;5;241;43m.\u001b[39;49m\u001b[43mfind_element_by_xpath\u001b[49m\u001b[43m(\u001b[49m\u001b[38;5;124;43m'\u001b[39;49m\u001b[38;5;124;43m/html/body/div[1]/div[3]/form/div[1]/div[1]/div[2]/div[2]/div[5]/center/input[1]\u001b[39;49m\u001b[38;5;124;43m'\u001b[39;49m\u001b[43m)\u001b[49m\u001b[38;5;241;43m.\u001b[39;49m\u001b[43mclick\u001b[49m\u001b[43m(\u001b[49m\u001b[43m)\u001b[49m\n",
      "File \u001b[0;32m~/anaconda3/envs/Projetos_Automacao/lib/python3.10/site-packages/selenium/webdriver/remote/webelement.py:89\u001b[0m, in \u001b[0;36mWebElement.click\u001b[0;34m(self)\u001b[0m\n\u001b[1;32m     87\u001b[0m \u001b[38;5;28;01mdef\u001b[39;00m \u001b[38;5;21mclick\u001b[39m(\u001b[38;5;28mself\u001b[39m) \u001b[38;5;241m-\u001b[39m\u001b[38;5;241m>\u001b[39m \u001b[38;5;28;01mNone\u001b[39;00m:\n\u001b[1;32m     88\u001b[0m     \u001b[38;5;124;03m\"\"\"Clicks the element.\"\"\"\u001b[39;00m\n\u001b[0;32m---> 89\u001b[0m     \u001b[38;5;28;43mself\u001b[39;49m\u001b[38;5;241;43m.\u001b[39;49m\u001b[43m_execute\u001b[49m\u001b[43m(\u001b[49m\u001b[43mCommand\u001b[49m\u001b[38;5;241;43m.\u001b[39;49m\u001b[43mCLICK_ELEMENT\u001b[49m\u001b[43m)\u001b[49m\n",
      "File \u001b[0;32m~/anaconda3/envs/Projetos_Automacao/lib/python3.10/site-packages/selenium/webdriver/remote/webelement.py:773\u001b[0m, in \u001b[0;36mWebElement._execute\u001b[0;34m(self, command, params)\u001b[0m\n\u001b[1;32m    771\u001b[0m     params \u001b[38;5;241m=\u001b[39m {}\n\u001b[1;32m    772\u001b[0m params[\u001b[38;5;124m'\u001b[39m\u001b[38;5;124mid\u001b[39m\u001b[38;5;124m'\u001b[39m] \u001b[38;5;241m=\u001b[39m \u001b[38;5;28mself\u001b[39m\u001b[38;5;241m.\u001b[39m_id\n\u001b[0;32m--> 773\u001b[0m \u001b[38;5;28;01mreturn\u001b[39;00m \u001b[38;5;28;43mself\u001b[39;49m\u001b[38;5;241;43m.\u001b[39;49m\u001b[43m_parent\u001b[49m\u001b[38;5;241;43m.\u001b[39;49m\u001b[43mexecute\u001b[49m\u001b[43m(\u001b[49m\u001b[43mcommand\u001b[49m\u001b[43m,\u001b[49m\u001b[43m \u001b[49m\u001b[43mparams\u001b[49m\u001b[43m)\u001b[49m\n",
      "File \u001b[0;32m~/anaconda3/envs/Projetos_Automacao/lib/python3.10/site-packages/selenium/webdriver/remote/webdriver.py:430\u001b[0m, in \u001b[0;36mWebDriver.execute\u001b[0;34m(self, driver_command, params)\u001b[0m\n\u001b[1;32m    428\u001b[0m response \u001b[38;5;241m=\u001b[39m \u001b[38;5;28mself\u001b[39m\u001b[38;5;241m.\u001b[39mcommand_executor\u001b[38;5;241m.\u001b[39mexecute(driver_command, params)\n\u001b[1;32m    429\u001b[0m \u001b[38;5;28;01mif\u001b[39;00m response:\n\u001b[0;32m--> 430\u001b[0m     \u001b[38;5;28;43mself\u001b[39;49m\u001b[38;5;241;43m.\u001b[39;49m\u001b[43merror_handler\u001b[49m\u001b[38;5;241;43m.\u001b[39;49m\u001b[43mcheck_response\u001b[49m\u001b[43m(\u001b[49m\u001b[43mresponse\u001b[49m\u001b[43m)\u001b[49m\n\u001b[1;32m    431\u001b[0m     response[\u001b[38;5;124m'\u001b[39m\u001b[38;5;124mvalue\u001b[39m\u001b[38;5;124m'\u001b[39m] \u001b[38;5;241m=\u001b[39m \u001b[38;5;28mself\u001b[39m\u001b[38;5;241m.\u001b[39m_unwrap_value(\n\u001b[1;32m    432\u001b[0m         response\u001b[38;5;241m.\u001b[39mget(\u001b[38;5;124m'\u001b[39m\u001b[38;5;124mvalue\u001b[39m\u001b[38;5;124m'\u001b[39m, \u001b[38;5;28;01mNone\u001b[39;00m))\n\u001b[1;32m    433\u001b[0m     \u001b[38;5;28;01mreturn\u001b[39;00m response\n",
      "File \u001b[0;32m~/anaconda3/envs/Projetos_Automacao/lib/python3.10/site-packages/selenium/webdriver/remote/errorhandler.py:247\u001b[0m, in \u001b[0;36mErrorHandler.check_response\u001b[0;34m(self, response)\u001b[0m\n\u001b[1;32m    245\u001b[0m         alert_text \u001b[38;5;241m=\u001b[39m value[\u001b[38;5;124m'\u001b[39m\u001b[38;5;124malert\u001b[39m\u001b[38;5;124m'\u001b[39m]\u001b[38;5;241m.\u001b[39mget(\u001b[38;5;124m'\u001b[39m\u001b[38;5;124mtext\u001b[39m\u001b[38;5;124m'\u001b[39m)\n\u001b[1;32m    246\u001b[0m     \u001b[38;5;28;01mraise\u001b[39;00m exception_class(message, screen, stacktrace, alert_text)  \u001b[38;5;66;03m# type: ignore[call-arg]  # mypy is not smart enough here\u001b[39;00m\n\u001b[0;32m--> 247\u001b[0m \u001b[38;5;28;01mraise\u001b[39;00m exception_class(message, screen, stacktrace)\n",
      "\u001b[0;31mElementNotInteractableException\u001b[0m: Message: element not interactable\n  (Session info: chrome=102.0.5005.115)\nStacktrace:\n#0 0x564da8a3cf33 <unknown>\n#1 0x564da8786faf <unknown>\n#2 0x564da87be4b7 <unknown>\n#3 0x564da87b25b9 <unknown>\n#4 0x564da87daf72 <unknown>\n#5 0x564da87b1e73 <unknown>\n#6 0x564da87db07e <unknown>\n#7 0x564da87ee2e4 <unknown>\n#8 0x564da87dae63 <unknown>\n#9 0x564da87b082a <unknown>\n#10 0x564da87b1985 <unknown>\n#11 0x564da8a814cd <unknown>\n#12 0x564da8a855ec <unknown>\n#13 0x564da8a6b71e <unknown>\n#14 0x564da8a86238 <unknown>\n#15 0x564da8a60870 <unknown>\n#16 0x564da8aa2608 <unknown>\n#17 0x564da8aa2788 <unknown>\n#18 0x564da8abcf1d <unknown>\n#19 0x7fbb92d5ab43 <unknown>\n"
     ]
    }
   ],
   "source": [
    "# Xpath of camp search bar\n",
    "xpath_camp_search = ('/html/body/div[1]/div[3]/form/div[1]/div[1]/div[1]/div/div[2]/input')\n",
    "\n",
    "# Finding element for cliked\n",
    "browser.find_element_by_xpath(xpath_camp_search).click()\n",
    "\n",
    "#Passed the value\n",
    "browser.find_element_by_xpath(xpath_camp_search).send_keys('Value dollar today')\n",
    "browser.find_element_by_xpath('/html/body/div[1]/div[3]/form/div[1]/div[1]/div[2]/div[2]/div[5]/center/input[1]').click()"
   ]
  },
  {
   "cell_type": "code",
   "execution_count": null,
   "id": "8a89c63d",
   "metadata": {},
   "outputs": [],
   "source": [
    "No bagageiro você poderá levar até dois volumes com no máximo trinta quilos de peso total sem que cada volume ultrapasse 240 decímetros cúbicos e 1 metro na maior dimensão.\n",
    "Excedida essa franquia, haverá cobrança pelo excesso de bagagem. \n",
    "Já no porta embrulhos, você pode levar até cinco quilos de peso total, com dimensões que se adaptem ao porta embrulhos, desde que não sejam comprometidos o conforto e a segurança dos demais passageiros.\n",
    "\n",
    "*Importante:* bagagens são objetos de uso pessoal. Para transporte de outros tipos de materiais consulte condições para envio de encomendas.\n",
    "\n",
    " O que deseja?"
   ]
  }
 ],
 "metadata": {
  "kernelspec": {
   "display_name": "Python 3 (ipykernel)",
   "language": "python",
   "name": "python3"
  },
  "language_info": {
   "codemirror_mode": {
    "name": "ipython",
    "version": 3
   },
   "file_extension": ".py",
   "mimetype": "text/x-python",
   "name": "python",
   "nbconvert_exporter": "python",
   "pygments_lexer": "ipython3",
   "version": "3.9.12"
  },
  "vscode": {
   "interpreter": {
    "hash": "9a9f98f0ca816d03317d23cc76d89b8484898c2ce3b4d1aa03cd08efe3c9a4d6"
   }
  }
 },
 "nbformat": 4,
 "nbformat_minor": 5
}
