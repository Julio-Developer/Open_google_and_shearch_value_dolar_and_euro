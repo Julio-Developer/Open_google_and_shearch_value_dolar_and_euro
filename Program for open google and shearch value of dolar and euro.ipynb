{
 "cells": [
  {
   "cell_type": "code",
   "execution_count": 1,
   "id": "ba9ecd14",
   "metadata": {
    "scrolled": true
   },
   "outputs": [
    {
     "name": "stderr",
     "output_type": "stream",
     "text": [
      "/tmp/ipykernel_30060/1414009040.py:13: DeprecationWarning: executable_path has been deprecated, please pass in a Service object\n",
      "  browser = webdriver.Chrome(\"/home/julio_gabriel/Meus Arquivos/Meus arquivos/Estudo/Cursos/Python/Curso_RPA_Python/Programs Created/chromedriver\")\n"
     ]
    }
   ],
   "source": [
    "# Import Libraries\n",
    "from selenium import webdriver\n",
    "from selenium.webdriver.common.keys import Keys as k\n",
    "from time import sleep as time\n",
    "import xlsxwriter as xwr\n",
    "import os\n",
    "\n",
    "# Variables\n",
    "value_dollar = 0\n",
    "value_euro = 0\n",
    "\n",
    "# Opened browser\n",
    "browser = webdriver.Chrome(\"/home/julio_gabriel/Meus Arquivos/Meus arquivos/Estudo/Cursos/Python/Curso_RPA_Python/Programs Created/chromedriver\")\n",
    "\n",
    "# Openig the browser\n",
    "browser.get('https://www.google.com.br/')\n",
    "time(2)"
   ]
  },
  {
   "cell_type": "code",
   "execution_count": 2,
   "id": "8c1ead23",
   "metadata": {},
   "outputs": [],
   "source": [
    "# Camp for find\n",
    "camp_search = ('q')\n",
    "\n",
    "# Clicked and search the values\n",
    "browser.find_element('name',camp_search).send_keys('Whats the value of dolar today in Brazil')\n",
    "time(1)\n",
    "browser.find_element('name', camp_search).send_keys(k.RETURN)\n",
    "time(1)\n",
    "\n",
    "# looking for the class that contains the dollar value\n",
    "value_dollar = browser.find_elements(\n",
    "    'xpath', '//*[@id=\"knowledge-currency__updatable-data-column\"]/div[1]/div[2]/span[1]')[0].text"
   ]
  },
  {
   "cell_type": "code",
   "execution_count": 3,
   "id": "cce4934b",
   "metadata": {},
   "outputs": [],
   "source": [
    "# Camp for find\n",
    "camp_search = ('q')\n",
    "\n",
    "# Opening new tab\n",
    "browser.switch_to.new_window('tab')\n",
    "browser.get('https://www.google.com.br/')\n",
    "\n",
    "# Clicked and search the values\n",
    "browser.find_element('name',camp_search).send_keys('Whats the value of euro today in Brazil')\n",
    "time(1)\n",
    "browser.find_element('name', camp_search).send_keys(k.RETURN)\n",
    "time(1)\n",
    "\n",
    "# looking for the class that contains the euro value\n",
    "value_euro = browser.find_elements(\n",
    "    'xpath', '//*[@id=\"knowledge-currency__updatable-data-column\"]/div[1]/div[2]/span[1]')[0].text"
   ]
  },
  {
   "cell_type": "code",
   "execution_count": 4,
   "id": "974cb7b5",
   "metadata": {},
   "outputs": [
    {
     "name": "stdout",
     "output_type": "stream",
     "text": [
      "5,33 5,56\n"
     ]
    }
   ],
   "source": [
    "print(str(value_dollar), str(value_euro))"
   ]
  },
  {
   "cell_type": "code",
   "execution_count": 5,
   "id": "45460aa8",
   "metadata": {},
   "outputs": [
    {
     "data": {
      "text/plain": [
       "0"
      ]
     },
     "execution_count": 5,
     "metadata": {},
     "output_type": "execute_result"
    }
   ],
   "source": [
    "# Creating the worksheet\n",
    "path_of_file = ('values.xlsx')\n",
    "file = xwr.Workbook(path_of_file)\n",
    "sheet1 = file.add_worksheet()\n",
    "\n",
    "# Passing values\n",
    "sheet1.write(\"A1\", \"Nome da Moeda\")\n",
    "sheet1.write(\"B1\", \"Valor da Moeda\")\n",
    "sheet1.write(\"A2\", \"Dolar\")\n",
    "sheet1.write(\"A3\", \"Euro\")\n",
    "sheet1.write(\"B2\", value_dollar)\n",
    "sheet1.write(\"B3\", value_euro)\n"
   ]
  },
  {
   "cell_type": "code",
   "execution_count": null,
   "id": "1bd2a5ad",
   "metadata": {},
   "outputs": [],
   "source": []
  },
  {
   "cell_type": "code",
   "execution_count": null,
   "id": "f74fdc91",
   "metadata": {},
   "outputs": [],
   "source": []
  }
 ],
 "metadata": {
  "kernelspec": {
   "display_name": "Python 3 (ipykernel)",
   "language": "python",
   "name": "python3"
  },
  "language_info": {
   "codemirror_mode": {
    "name": "ipython",
    "version": 3
   },
   "file_extension": ".py",
   "mimetype": "text/x-python",
   "name": "python",
   "nbconvert_exporter": "python",
   "pygments_lexer": "ipython3",
   "version": "3.10.4"
  },
  "vscode": {
   "interpreter": {
    "hash": "9a9f98f0ca816d03317d23cc76d89b8484898c2ce3b4d1aa03cd08efe3c9a4d6"
   }
  }
 },
 "nbformat": 4,
 "nbformat_minor": 5
}
