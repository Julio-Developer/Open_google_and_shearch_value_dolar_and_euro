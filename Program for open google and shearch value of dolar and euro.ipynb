{
 "cells": [
  {
   "cell_type": "code",
   "execution_count": 1,
   "id": "ba9ecd14",
   "metadata": {
    "scrolled": true
   },
   "outputs": [
    {
     "name": "stderr",
     "output_type": "stream",
     "text": [
      "/tmp/ipykernel_18412/4004043500.py:11: DeprecationWarning: executable_path has been deprecated, please pass in a Service object\n",
      "  browser = webdriver.Chrome(\"/home/julio_gabriel/Meus Arquivos/Meus arquivos/Estudo/Cursos/Python/Curso_RPA_Python/Programs Created/chromedriver\")\n"
     ]
    }
   ],
   "source": [
    "# Import Libraries\n",
    "from selenium import webdriver\n",
    "from selenium.webdriver.common.keys import Keys as k\n",
    "from time import sleep as time\n",
    "import xlsxwriter as xwr\n",
    "\n",
    "# Variables\n",
    "values = {}\n",
    "\n",
    "# Opened browser\n",
    "browser = webdriver.Chrome(\"/home/julio_gabriel/Meus Arquivos/Meus arquivos/Estudo/Cursos/Python/Curso_RPA_Python/Programs Created/chromedriver\")\n",
    "\n",
    "# Openig the browser\n",
    "browser.get('https://www.google.com.br/')\n",
    "time(2)"
   ]
  },
  {
   "cell_type": "code",
   "execution_count": 2,
   "id": "8c1ead23",
   "metadata": {},
   "outputs": [],
   "source": [
    "# Camp for find\n",
    "camp_search = ('q')\n",
    "\n",
    "# Clicked and search the values\n",
    "browser.find_element('name',camp_search).send_keys('Whats the value of dolar today in Brazil')\n",
    "time(1)\n",
    "browser.find_element('name', camp_search).send_keys(k.RETURN)\n",
    "time(1)\n",
    "\n",
    "# looking for the class that contains the dollar value\n",
    "value_dolar = browser.find_elements(\n",
    "    'xpath', '//*[@id=\"knowledge-currency__updatable-data-column\"]/div[1]/div[2]/span[1]')[0].text\n",
    "values = {'Valor Dolar: ':value_dolar}"
   ]
  },
  {
   "cell_type": "code",
   "execution_count": 3,
   "id": "cce4934b",
   "metadata": {},
   "outputs": [],
   "source": [
    "# Camp for find\n",
    "camp_search = ('q')\n",
    "\n",
    "# Opening new tab\n",
    "browser.switch_to.new_window('tab')\n",
    "browser.get('https://www.google.com.br/')\n",
    "\n",
    "# Clicked and search the values\n",
    "browser.find_element('name',camp_search).send_keys('Whats the value of euro today in Brazil')\n",
    "time(1)\n",
    "browser.find_element('name', camp_search).send_keys(k.RETURN)\n",
    "time(1)\n",
    "\n",
    "# looking for the class that contains the euro value\n",
    "value_euro = browser.find_elements(\n",
    "    'xpath', '//*[@id=\"knowledge-currency__updatable-data-column\"]/div[1]/div[2]/span[1]')[0].text\n",
    "values['Valor Euro: ']=value_euro"
   ]
  },
  {
   "cell_type": "code",
   "execution_count": 4,
   "id": "974cb7b5",
   "metadata": {},
   "outputs": [
    {
     "name": "stdout",
     "output_type": "stream",
     "text": [
      "{'Valor Dolar: ': '5,33', 'Valor Euro: ': '5,57'}\n"
     ]
    }
   ],
   "source": [
    "print(values)"
   ]
  },
  {
   "cell_type": "code",
   "execution_count": 5,
   "id": "45460aa8",
   "metadata": {},
   "outputs": [
    {
     "ename": "TypeError",
     "evalue": "'module' object is not callable",
     "output_type": "error",
     "traceback": [
      "\u001b[0;31m---------------------------------------------------------------------------\u001b[0m",
      "\u001b[0;31mTypeError\u001b[0m                                 Traceback (most recent call last)",
      "Input \u001b[0;32mIn [5]\u001b[0m, in \u001b[0;36m<cell line: 2>\u001b[0;34m()\u001b[0m\n\u001b[1;32m      1\u001b[0m \u001b[38;5;66;03m# Creating the worksheet for passing values\u001b[39;00m\n\u001b[0;32m----> 2\u001b[0m workbook \u001b[38;5;241m=\u001b[39m \u001b[43mxwr\u001b[49m\u001b[38;5;241;43m.\u001b[39;49m\u001b[43mworkbook\u001b[49m\u001b[43m(\u001b[49m\u001b[38;5;124;43m'\u001b[39;49m\u001b[38;5;124;43mvalue_euro_dollar.xlsx\u001b[39;49m\u001b[38;5;124;43m'\u001b[39;49m\u001b[43m)\u001b[49m\n\u001b[1;32m      3\u001b[0m worksheet \u001b[38;5;241m=\u001b[39m spreadsheet\u001b[38;5;241m.\u001b[39madd_worksheet()\n\u001b[1;32m      5\u001b[0m \u001b[38;5;66;03m# Passing values\u001b[39;00m\n",
      "\u001b[0;31mTypeError\u001b[0m: 'module' object is not callable"
     ]
    }
   ],
   "source": [
    "# Creating the worksheet for passing values\n",
    "workbook = xwr.workbook('value_euro_dollar.xlsx')\n",
    "worksheet = spreadsheet.add_worksheet()\n",
    "\n",
    "# Passing values\n",
    "spreadsheet.write('A1', values[0])\n"
   ]
  },
  {
   "cell_type": "code",
   "execution_count": null,
   "id": "1bd2a5ad",
   "metadata": {},
   "outputs": [],
   "source": []
  }
 ],
 "metadata": {
  "kernelspec": {
   "display_name": "Python 3 (ipykernel)",
   "language": "python",
   "name": "python3"
  },
  "language_info": {
   "codemirror_mode": {
    "name": "ipython",
    "version": 3
   },
   "file_extension": ".py",
   "mimetype": "text/x-python",
   "name": "python",
   "nbconvert_exporter": "python",
   "pygments_lexer": "ipython3",
   "version": "3.10.4"
  },
  "vscode": {
   "interpreter": {
    "hash": "9a9f98f0ca816d03317d23cc76d89b8484898c2ce3b4d1aa03cd08efe3c9a4d6"
   }
  }
 },
 "nbformat": 4,
 "nbformat_minor": 5
}
