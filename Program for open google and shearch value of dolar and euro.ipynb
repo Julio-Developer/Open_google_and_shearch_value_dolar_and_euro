{
 "cells": [
  {
   "cell_type": "code",
   "execution_count": null,
   "id": "ba9ecd14",
   "metadata": {
    "scrolled": true
   },
   "outputs": [],
   "source": [
    "# Import Libraries\n",
    "from selenium import webdriver\n",
    "from selenium.webdriver.common.keys import Keys as k\n",
    "from time import sleep as time\n",
    "\n",
    "# Variables\n",
    "values = {}\n",
    "\n",
    "# Opened browser\n",
    "browser = webdriver.Chrome()\n",
    "\n",
    "# Openig the browser\n",
    "browser.get('https://www.google.com.br/')\n",
    "time(2)"
   ]
  },
  {
   "cell_type": "code",
   "execution_count": null,
   "id": "8c1ead23",
   "metadata": {},
   "outputs": [],
   "source": [
    "# Camp for find\n",
    "camp_search = ('q')\n",
    "\n",
    "# Clicked and search the values\n",
    "browser.find_element('name',camp_search).send_keys('Whats the value of dolar today in Brazil')\n",
    "time(1)\n",
    "browser.find_element('name', camp_search).send_keys(k.RETURN)\n",
    "time(1)\n",
    "\n",
    "# looking for the class that contains the dollar value\n",
    "value_dolar = browser.find_elements(\n",
    "    'xpath', '//*[@id=\"knowledge-currency__updatable-data-column\"]/div[1]/div[2]/span[1]')[0].text\n",
    "values = {'Valor Dolar: ':value_dolar}"
   ]
  },
  {
   "cell_type": "code",
   "execution_count": null,
   "id": "cce4934b",
   "metadata": {},
   "outputs": [],
   "source": [
    "# Camp for find\n",
    "camp_search = ('q')\n",
    "\n",
    "# Opening new tab\n",
    "browser.switch_to.new_window('tab')\n",
    "browser.get('https://www.google.com.br/')\n",
    "\n",
    "# Clicked and search the values\n",
    "browser.find_element('name',camp_search).send_keys('Whats the value of euro today in Brazil')\n",
    "time(1)\n",
    "browser.find_element('name', camp_search).send_keys(k.RETURN)\n",
    "time(1)\n",
    "\n",
    "# looking for the class that contains the euro value\n",
    "value_euro = browser.find_elements(\n",
    "    'xpath', '//*[@id=\"knowledge-currency__updatable-data-column\"]/div[1]/div[2]/span[1]')[0].text\n",
    "values['Valor Euro: ']=value_euro"
   ]
  },
  {
   "cell_type": "code",
   "execution_count": null,
   "id": "836013dc",
   "metadata": {},
   "outputs": [],
   "source": [
    "print(values)"
   ]
  },
  {
   "cell_type": "code",
   "execution_count": null,
   "id": "473dd009",
   "metadata": {},
   "outputs": [],
   "source": []
  }
 ],
 "metadata": {
  "kernelspec": {
   "display_name": "Python 3 (ipykernel)",
   "language": "python",
   "name": "python3"
  },
  "language_info": {
   "codemirror_mode": {
    "name": "ipython",
    "version": 3
   },
   "file_extension": ".py",
   "mimetype": "text/x-python",
   "name": "python",
   "nbconvert_exporter": "python",
   "pygments_lexer": "ipython3",
   "version": "3.9.12"
  },
  "vscode": {
   "interpreter": {
    "hash": "9a9f98f0ca816d03317d23cc76d89b8484898c2ce3b4d1aa03cd08efe3c9a4d6"
   }
  }
 },
 "nbformat": 4,
 "nbformat_minor": 5
}
